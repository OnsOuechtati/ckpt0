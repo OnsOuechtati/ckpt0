{
  "nbformat": 4,
  "nbformat_minor": 0,
  "metadata": {
    "colab": {
      "name": "Untitled0.ipynb",
      "provenance": []
    },
    "kernelspec": {
      "name": "python3",
      "display_name": "Python 3"
    },
    "language_info": {
      "name": "python"
    }
  },
  "cells": [
    {
      "cell_type": "code",
      "execution_count": null,
      "metadata": {
        "id": "xU0M6n03dQ1j"
      },
      "outputs": [],
      "source": [
        "print(\"Welcome to python world! Let's start coding\")"
      ]
    }
  ]
}