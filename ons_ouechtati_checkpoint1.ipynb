{
  "nbformat": 4,
  "nbformat_minor": 0,
  "metadata": {
    "colab": {
      "name": "ons.ouechtati checkpoint1",
      "provenance": []
    },
    "kernelspec": {
      "name": "python3",
      "display_name": "Python 3"
    },
    "language_info": {
      "name": "python"
    }
  },
  "cells": [
    {
      "cell_type": "code",
      "execution_count": null,
      "metadata": {
        "id": "xYGWm5RBOp0o"
      },
      "outputs": [],
      "source": [
        "#exercice1 \n",
        "list1=[] \n",
        "for n in range (2000,3201): # on ajoute 1 au limite superieur de range pour qu'il soit in range\n",
        "  if n%7==0 and n%5!=0:\n",
        "    list1.append(n)   \n",
        "print(list1)\n"
      ]
    },
    {
      "cell_type": "code",
      "source": [
        "#exercice2\n",
        "n= input()\n",
        "k=1\n",
        "for i in range(1,int(n)+1):\n",
        "  k=k*i\n",
        "print(k)\n"
      ],
      "metadata": {
        "colab": {
          "base_uri": "https://localhost:8080/"
        },
        "id": "ZXWnfEiqVIhE",
        "outputId": "2425f213-ed7f-409a-c0c0-6038da347f5e"
      },
      "execution_count": 28,
      "outputs": [
        {
          "output_type": "stream",
          "name": "stdout",
          "text": [
            "5\n",
            "120\n"
          ]
        }
      ]
    },
    {
      "cell_type": "code",
      "source": [
        "#exercice3\n",
        "n= input()\n",
        "dict= {} \n",
        "for i in range(0, int(n)+1):\n",
        "  dict[i]= i*i\n",
        "print (dict)"
      ],
      "metadata": {
        "id": "RdAS3m3BcDZg"
      },
      "execution_count": null,
      "outputs": []
    },
    {
      "cell_type": "code",
      "source": [
        "#exercice4\n",
        "word = input()\n",
        "n = int(input())\n",
        "#list1= list(word.strip(\" \"))\n",
        "list1= list(word)\n",
        "list1.remove(list1[n])\n",
        "my_string=''.join(list1)\n",
        "print(my_string)\n",
        "#list1"
      ],
      "metadata": {
        "colab": {
          "base_uri": "https://localhost:8080/"
        },
        "id": "VciA1fpGhPYl",
        "outputId": "e7f70a51-3835-4d6f-d314-396efdcd1ebe"
      },
      "execution_count": 8,
      "outputs": [
        {
          "output_type": "stream",
          "name": "stdout",
          "text": [
            "kitten\n",
            "2\n",
            "kiten\n"
          ]
        }
      ]
    },
    {
      "cell_type": "code",
      "source": [
        "word = input()\n",
        "n = int(input())\n",
        "\n",
        "mot=word[0:n]+word[n+1: len(word)]\n",
        "print(mot)"
      ],
      "metadata": {
        "colab": {
          "base_uri": "https://localhost:8080/"
        },
        "id": "HqVDBuxWsxoZ",
        "outputId": "6b0691a4-0c36-45fb-ad15-15e43a450e80"
      },
      "execution_count": 5,
      "outputs": [
        {
          "output_type": "stream",
          "name": "stdout",
          "text": [
            "kitten\n",
            "2\n",
            "kiten\n"
          ]
        }
      ]
    },
    {
      "cell_type": "code",
      "source": [
        "#exercice5\n",
        "import numpy as np\n",
        "Array= np.array([[0, 1], [2 ,3] ,[4, 5]])\n",
        "lista= Array.tolist()\n",
        "print(lista)"
      ],
      "metadata": {
        "colab": {
          "base_uri": "https://localhost:8080/"
        },
        "id": "QGsKc_H4mhx1",
        "outputId": "e625c9cd-bfc1-410d-aa1d-08e0a59177ae"
      },
      "execution_count": 7,
      "outputs": [
        {
          "output_type": "stream",
          "name": "stdout",
          "text": [
            "[[0, 1], [2, 3], [4, 5]]\n"
          ]
        }
      ]
    },
    {
      "cell_type": "code",
      "source": [
        "#exercice6\n",
        "import numpy as np\n",
        "A= [0, 1, 2] \n",
        "B= [2, 1, 0]\n",
        "data = np.array([A,B])\n",
        "\n",
        "covMatrix = np.cov(data)\n",
        "print (covMatrix)\n"
      ],
      "metadata": {
        "colab": {
          "base_uri": "https://localhost:8080/"
        },
        "id": "LnYmiV6IvUHw",
        "outputId": "f60e7848-b61f-4ab9-f434-55ced5e09e6e"
      },
      "execution_count": 16,
      "outputs": [
        {
          "output_type": "stream",
          "name": "stdout",
          "text": [
            "[[ 1. -1.]\n",
            " [-1.  1.]]\n"
          ]
        }
      ]
    },
    {
      "cell_type": "code",
      "source": [
        "#exercice7\n",
        "import math\n",
        "D= input()\n",
        "C=50\n",
        "H=30\n",
        "l=D.split(',')\n",
        "l2=[]\n",
        "for e in l:\n",
        "  Q= round(math.sqrt((2 * C * int(e)/H)))\n",
        "  l2.append(str(Q)) \n",
        "my_string=','.join(l2) \n",
        "print(my_string)\n",
        "\n",
        "\n"
      ],
      "metadata": {
        "colab": {
          "base_uri": "https://localhost:8080/"
        },
        "id": "UF7Yl5ly28CL",
        "outputId": "55999618-a4ad-4b25-9162-45ecc7887cf5"
      },
      "execution_count": 24,
      "outputs": [
        {
          "output_type": "stream",
          "name": "stdout",
          "text": [
            "120,130,140\n",
            "20,21,22\n"
          ]
        }
      ]
    }
  ]
}